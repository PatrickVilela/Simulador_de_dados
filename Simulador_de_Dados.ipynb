{
  "nbformat": 4,
  "nbformat_minor": 0,
  "metadata": {
    "colab": {
      "provenance": [],
      "authorship_tag": "ABX9TyPZZs2UMq6HLHGRdob1PHKf",
      "include_colab_link": true
    },
    "kernelspec": {
      "name": "python3",
      "display_name": "Python 3"
    },
    "language_info": {
      "name": "python"
    }
  },
  "cells": [
    {
      "cell_type": "markdown",
      "metadata": {
        "id": "view-in-github",
        "colab_type": "text"
      },
      "source": [
        "<a href=\"https://colab.research.google.com/github/PatrickVilela/Simulador_de_dados/blob/main/Simulador_de_Dados.ipynb\" target=\"_parent\"><img src=\"https://colab.research.google.com/assets/colab-badge.svg\" alt=\"Open In Colab\"/></a>"
      ]
    },
    {
      "cell_type": "code",
      "execution_count": 1,
      "metadata": {
        "colab": {
          "base_uri": "https://localhost:8080/"
        },
        "id": "462FfuDwKqTI",
        "outputId": "5985a8b0-c3c4-4102-f6b2-64c8fd888abc"
      },
      "outputs": [
        {
          "output_type": "stream",
          "name": "stdout",
          "text": [
            "Digite o número de faces do dado: 6\n",
            "Digite o número de lançamentos: 5\n",
            "Resultados dos lançamentos: [2, 2, 6, 1, 4]\n"
          ]
        }
      ],
      "source": [
        "import random\n",
        "\n",
        "def dice_roller(num_faces, num_rolls):\n",
        "    results = []\n",
        "    for _ in range(num_rolls):\n",
        "        roll_result = random.randint(1, num_faces)\n",
        "        results.append(roll_result)\n",
        "    return results\n",
        "\n",
        "def main():\n",
        "    num_faces = int(input(\"Digite o número de faces do dado: \"))\n",
        "    num_rolls = int(input(\"Digite o número de lançamentos: \"))\n",
        "\n",
        "    results = dice_roller(num_faces, num_rolls)\n",
        "    print(\"Resultados dos lançamentos:\", results)\n",
        "\n",
        "if __name__ == \"__main__\":\n",
        "    main()\n"
      ]
    },
    {
      "cell_type": "code",
      "source": [],
      "metadata": {
        "id": "4B8uDf3GKvBb"
      },
      "execution_count": null,
      "outputs": []
    }
  ]
}